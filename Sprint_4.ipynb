{
 "cells": [
  {
   "cell_type": "markdown",
   "id": "03b2e7e7",
   "metadata": {},
   "source": [
    "# Introducción\n",
    "\n",
    "Instacart es una plataforma de entregas de comestibles donde la clientela puede registrar un pedido y hacer que se lo entreguen, similar a Uber Eats y Door Dash.\n",
    "El conjunto de datos que te hemos proporcionado tiene modificaciones del original. Redujimos el tamaño del conjunto para que tus cálculos se hicieran más rápido e introdujimos valores ausentes y duplicados. Tuvimos cuidado de conservar las distribuciones de los datos originales cuando hicimos los cambios.\n",
    "\n",
    "Debes completar tres pasos. Para cada uno de ellos, escribe una breve introducción que refleje con claridad cómo pretendes resolver cada paso, y escribe párrafos explicatorios que justifiquen tus decisiones al tiempo que avanzas en tu solución.  También escribe una conclusión que resuma tus hallazgos y elecciones."
   ]
  },
  {
   "cell_type": "markdown",
   "id": "7210015d",
   "metadata": {},
   "source": [
    "## Diccionario de datos\n",
    "\n",
    "Hay cinco tablas en el conjunto de datos, y tendrás que usarlas todas para hacer el preprocesamiento de datos y el análisis exploratorio de datos. A continuación se muestra un diccionario de datos que enumera las columnas de cada tabla y describe los datos que contienen.\n",
    "\n",
    "- `instacart_orders.csv`: cada fila corresponde a un pedido en la aplicación Instacart.\n",
    "    - `'order_id'`: número de ID que identifica de manera única cada pedido.\n",
    "    - `'user_id'`: número de ID que identifica de manera única la cuenta de cada cliente.\n",
    "    - `'order_number'`: el número de veces que este cliente ha hecho un pedido.\n",
    "    - `'order_dow'`: día de la semana en que se hizo el pedido (0 si es domingo).\n",
    "    - `'order_hour_of_day'`: hora del día en que se hizo el pedido.\n",
    "    - `'days_since_prior_order'`: número de días transcurridos desde que este cliente hizo su pedido anterior.\n",
    "- `products.csv`: cada fila corresponde a un producto único que pueden comprar los clientes.\n",
    "    - `'product_id'`: número ID que identifica de manera única cada producto.\n",
    "    - `'product_name'`: nombre del producto.\n",
    "    - `'aisle_id'`: número ID que identifica de manera única cada categoría de pasillo de víveres.\n",
    "    - `'department_id'`: número ID que identifica de manera única cada departamento de víveres.\n",
    "- `order_products.csv`: cada fila corresponde a un artículo pedido en un pedido.\n",
    "    - `'order_id'`: número de ID que identifica de manera única cada pedido.\n",
    "    - `'product_id'`: número ID que identifica de manera única cada producto.\n",
    "    - `'add_to_cart_order'`: el orden secuencial en el que se añadió cada artículo en el carrito.\n",
    "    - `'reordered'`: 0 si el cliente nunca ha pedido este producto antes, 1 si lo ha pedido.\n",
    "- `aisles.csv`\n",
    "    - `'aisle_id'`: número ID que identifica de manera única cada categoría de pasillo de víveres.\n",
    "    - `'aisle'`: nombre del pasillo.\n",
    "- `departments.csv`\n",
    "    - `'department_id'`: número ID que identifica de manera única cada departamento de víveres.\n",
    "    - `'department'`: nombre del departamento."
   ]
  },
  {
   "cell_type": "markdown",
   "id": "b1f99185",
   "metadata": {},
   "source": [
    "# Paso 1. Descripción de los datos\n",
    "\n",
    "Lee los archivos de datos (`instacart_orders.csv`, `products.csv`, `aisles.csv`, `departments.csv` y `order_products.csv`) con `pd.read_csv()` usando los parámetros adecuados para leer los datos correctamente. Verifica la información para cada DataFrame creado.\n"
   ]
  },
  {
   "cell_type": "markdown",
   "id": "d76cbaaf",
   "metadata": {},
   "source": [
    "## Plan de solución\n",
    "\n",
    "Escribe aquí tu plan de solución para el Paso 1. Descripción de los datos.\n",
    "\n",
    "Lo primero a realizar es importar pandas, leer cada dataset y sacar info general, con ello veremos que cambios se necesitan. \n",
    "\n",
    "Este espacio es dedicado a un vistazo general para identificar los siguientes aspectos:\n",
    "- Outliers\n",
    "- Duplicados\n",
    "- Nulos\n",
    "- Snake_case\n",
    "\n",
    "En función al tipo de aspecto encontrado, se procederá a realizar una modificación, esto para simplificar el proceso de análisis\n"
   ]
  },
  {
   "cell_type": "code",
   "execution_count": 104,
   "id": "6a961718",
   "metadata": {},
   "outputs": [],
   "source": [
    "import pandas as pd\n",
    "from matplotlib import pyplot as plt\n",
    "pd.DataFrame.iteritems = pd.DataFrame.items\n",
    "import numpy as np"
   ]
  },
  {
   "cell_type": "code",
   "execution_count": 58,
   "id": "d8604c11",
   "metadata": {},
   "outputs": [],
   "source": [
    "instacart = pd.read_csv(r'E:\\análisis de datos\\datasets\\instacart_orders.csv', sep=';')\n",
    "products = pd.read_csv(r'E:\\análisis de datos\\datasets\\products.csv',sep=';')\n",
    "aisles = pd.read_csv(r'E:\\análisis de datos\\datasets\\aisles.csv',sep=';')\n",
    "departments = pd.read_csv(r'E:\\análisis de datos\\datasets\\departments.csv',sep=';')\n",
    "orders = pd.read_csv(r'E:\\análisis de datos\\datasets\\order_products.csv',sep=';')"
   ]
  },
  {
   "cell_type": "code",
   "execution_count": 59,
   "id": "2b404d5c",
   "metadata": {},
   "outputs": [
    {
     "data": {
      "text/html": [
       "<div>\n",
       "<style scoped>\n",
       "    .dataframe tbody tr th:only-of-type {\n",
       "        vertical-align: middle;\n",
       "    }\n",
       "\n",
       "    .dataframe tbody tr th {\n",
       "        vertical-align: top;\n",
       "    }\n",
       "\n",
       "    .dataframe thead th {\n",
       "        text-align: right;\n",
       "    }\n",
       "</style>\n",
       "<table border=\"1\" class=\"dataframe\">\n",
       "  <thead>\n",
       "    <tr style=\"text-align: right;\">\n",
       "      <th></th>\n",
       "      <th>order_id</th>\n",
       "      <th>user_id</th>\n",
       "      <th>order_number</th>\n",
       "      <th>order_dow</th>\n",
       "      <th>order_hour_of_day</th>\n",
       "      <th>days_since_prior_order</th>\n",
       "    </tr>\n",
       "  </thead>\n",
       "  <tbody>\n",
       "    <tr>\n",
       "      <th>0</th>\n",
       "      <td>1515936</td>\n",
       "      <td>183418</td>\n",
       "      <td>11</td>\n",
       "      <td>6</td>\n",
       "      <td>13</td>\n",
       "      <td>30.0</td>\n",
       "    </tr>\n",
       "    <tr>\n",
       "      <th>1</th>\n",
       "      <td>1690866</td>\n",
       "      <td>163593</td>\n",
       "      <td>5</td>\n",
       "      <td>5</td>\n",
       "      <td>12</td>\n",
       "      <td>9.0</td>\n",
       "    </tr>\n",
       "    <tr>\n",
       "      <th>2</th>\n",
       "      <td>1454967</td>\n",
       "      <td>39980</td>\n",
       "      <td>4</td>\n",
       "      <td>5</td>\n",
       "      <td>19</td>\n",
       "      <td>2.0</td>\n",
       "    </tr>\n",
       "    <tr>\n",
       "      <th>3</th>\n",
       "      <td>1768857</td>\n",
       "      <td>82516</td>\n",
       "      <td>56</td>\n",
       "      <td>0</td>\n",
       "      <td>20</td>\n",
       "      <td>10.0</td>\n",
       "    </tr>\n",
       "    <tr>\n",
       "      <th>4</th>\n",
       "      <td>3007858</td>\n",
       "      <td>196724</td>\n",
       "      <td>2</td>\n",
       "      <td>4</td>\n",
       "      <td>12</td>\n",
       "      <td>17.0</td>\n",
       "    </tr>\n",
       "  </tbody>\n",
       "</table>\n",
       "</div>"
      ],
      "text/plain": [
       "   order_id  user_id  order_number  order_dow  order_hour_of_day  \\\n",
       "0   1515936   183418            11          6                 13   \n",
       "1   1690866   163593             5          5                 12   \n",
       "2   1454967    39980             4          5                 19   \n",
       "3   1768857    82516            56          0                 20   \n",
       "4   3007858   196724             2          4                 12   \n",
       "\n",
       "   days_since_prior_order  \n",
       "0                    30.0  \n",
       "1                     9.0  \n",
       "2                     2.0  \n",
       "3                    10.0  \n",
       "4                    17.0  "
      ]
     },
     "execution_count": 59,
     "metadata": {},
     "output_type": "execute_result"
    }
   ],
   "source": [
    "instacart.head()"
   ]
  },
  {
   "cell_type": "code",
   "execution_count": 60,
   "id": "1f30a726",
   "metadata": {},
   "outputs": [
    {
     "name": "stdout",
     "output_type": "stream",
     "text": [
      "<class 'pandas.core.frame.DataFrame'>\n",
      "RangeIndex: 478967 entries, 0 to 478966\n",
      "Data columns (total 6 columns):\n",
      " #   Column                  Non-Null Count   Dtype  \n",
      "---  ------                  --------------   -----  \n",
      " 0   order_id                478967 non-null  int64  \n",
      " 1   user_id                 478967 non-null  int64  \n",
      " 2   order_number            478967 non-null  int64  \n",
      " 3   order_dow               478967 non-null  int64  \n",
      " 4   order_hour_of_day       478967 non-null  int64  \n",
      " 5   days_since_prior_order  450148 non-null  float64\n",
      "dtypes: float64(1), int64(5)\n",
      "memory usage: 21.9 MB\n"
     ]
    }
   ],
   "source": [
    "instacart.info()"
   ]
  },
  {
   "cell_type": "code",
   "execution_count": 61,
   "id": "3aaa8332",
   "metadata": {},
   "outputs": [
    {
     "data": {
      "text/html": [
       "<div>\n",
       "<style scoped>\n",
       "    .dataframe tbody tr th:only-of-type {\n",
       "        vertical-align: middle;\n",
       "    }\n",
       "\n",
       "    .dataframe tbody tr th {\n",
       "        vertical-align: top;\n",
       "    }\n",
       "\n",
       "    .dataframe thead th {\n",
       "        text-align: right;\n",
       "    }\n",
       "</style>\n",
       "<table border=\"1\" class=\"dataframe\">\n",
       "  <thead>\n",
       "    <tr style=\"text-align: right;\">\n",
       "      <th></th>\n",
       "      <th>product_id</th>\n",
       "      <th>product_name</th>\n",
       "      <th>aisle_id</th>\n",
       "      <th>department_id</th>\n",
       "    </tr>\n",
       "  </thead>\n",
       "  <tbody>\n",
       "    <tr>\n",
       "      <th>0</th>\n",
       "      <td>1</td>\n",
       "      <td>Chocolate Sandwich Cookies</td>\n",
       "      <td>61</td>\n",
       "      <td>19</td>\n",
       "    </tr>\n",
       "  </tbody>\n",
       "</table>\n",
       "</div>"
      ],
      "text/plain": [
       "   product_id                product_name  aisle_id  department_id\n",
       "0           1  Chocolate Sandwich Cookies        61             19"
      ]
     },
     "execution_count": 61,
     "metadata": {},
     "output_type": "execute_result"
    }
   ],
   "source": [
    "products.head(1)"
   ]
  },
  {
   "cell_type": "code",
   "execution_count": 62,
   "id": "18473870",
   "metadata": {},
   "outputs": [
    {
     "name": "stdout",
     "output_type": "stream",
     "text": [
      "<class 'pandas.core.frame.DataFrame'>\n",
      "RangeIndex: 49694 entries, 0 to 49693\n",
      "Data columns (total 4 columns):\n",
      " #   Column         Non-Null Count  Dtype \n",
      "---  ------         --------------  ----- \n",
      " 0   product_id     49694 non-null  int64 \n",
      " 1   product_name   48436 non-null  object\n",
      " 2   aisle_id       49694 non-null  int64 \n",
      " 3   department_id  49694 non-null  int64 \n",
      "dtypes: int64(3), object(1)\n",
      "memory usage: 1.5+ MB\n"
     ]
    }
   ],
   "source": [
    "products.info()"
   ]
  },
  {
   "cell_type": "code",
   "execution_count": 63,
   "id": "49a83c6b",
   "metadata": {},
   "outputs": [
    {
     "data": {
      "text/html": [
       "<div>\n",
       "<style scoped>\n",
       "    .dataframe tbody tr th:only-of-type {\n",
       "        vertical-align: middle;\n",
       "    }\n",
       "\n",
       "    .dataframe tbody tr th {\n",
       "        vertical-align: top;\n",
       "    }\n",
       "\n",
       "    .dataframe thead th {\n",
       "        text-align: right;\n",
       "    }\n",
       "</style>\n",
       "<table border=\"1\" class=\"dataframe\">\n",
       "  <thead>\n",
       "    <tr style=\"text-align: right;\">\n",
       "      <th></th>\n",
       "      <th>department_id</th>\n",
       "      <th>department</th>\n",
       "    </tr>\n",
       "  </thead>\n",
       "  <tbody>\n",
       "    <tr>\n",
       "      <th>0</th>\n",
       "      <td>1</td>\n",
       "      <td>frozen</td>\n",
       "    </tr>\n",
       "  </tbody>\n",
       "</table>\n",
       "</div>"
      ],
      "text/plain": [
       "   department_id department\n",
       "0              1     frozen"
      ]
     },
     "execution_count": 63,
     "metadata": {},
     "output_type": "execute_result"
    }
   ],
   "source": [
    "departments.head(1)"
   ]
  },
  {
   "cell_type": "code",
   "execution_count": 64,
   "id": "b95584ad",
   "metadata": {},
   "outputs": [
    {
     "name": "stdout",
     "output_type": "stream",
     "text": [
      "<class 'pandas.core.frame.DataFrame'>\n",
      "RangeIndex: 21 entries, 0 to 20\n",
      "Data columns (total 2 columns):\n",
      " #   Column         Non-Null Count  Dtype \n",
      "---  ------         --------------  ----- \n",
      " 0   department_id  21 non-null     int64 \n",
      " 1   department     21 non-null     object\n",
      "dtypes: int64(1), object(1)\n",
      "memory usage: 468.0+ bytes\n"
     ]
    }
   ],
   "source": [
    "departments.info()"
   ]
  },
  {
   "cell_type": "code",
   "execution_count": 65,
   "id": "fb27159f",
   "metadata": {},
   "outputs": [
    {
     "data": {
      "text/html": [
       "<div>\n",
       "<style scoped>\n",
       "    .dataframe tbody tr th:only-of-type {\n",
       "        vertical-align: middle;\n",
       "    }\n",
       "\n",
       "    .dataframe tbody tr th {\n",
       "        vertical-align: top;\n",
       "    }\n",
       "\n",
       "    .dataframe thead th {\n",
       "        text-align: right;\n",
       "    }\n",
       "</style>\n",
       "<table border=\"1\" class=\"dataframe\">\n",
       "  <thead>\n",
       "    <tr style=\"text-align: right;\">\n",
       "      <th></th>\n",
       "      <th>order_id</th>\n",
       "      <th>product_id</th>\n",
       "      <th>add_to_cart_order</th>\n",
       "      <th>reordered</th>\n",
       "    </tr>\n",
       "  </thead>\n",
       "  <tbody>\n",
       "    <tr>\n",
       "      <th>0</th>\n",
       "      <td>2141543</td>\n",
       "      <td>11440</td>\n",
       "      <td>17.0</td>\n",
       "      <td>0</td>\n",
       "    </tr>\n",
       "  </tbody>\n",
       "</table>\n",
       "</div>"
      ],
      "text/plain": [
       "   order_id  product_id  add_to_cart_order  reordered\n",
       "0   2141543       11440               17.0          0"
      ]
     },
     "execution_count": 65,
     "metadata": {},
     "output_type": "execute_result"
    }
   ],
   "source": [
    "orders.head(1)"
   ]
  },
  {
   "cell_type": "code",
   "execution_count": 66,
   "id": "0d958ebf",
   "metadata": {},
   "outputs": [
    {
     "name": "stdout",
     "output_type": "stream",
     "text": [
      "<class 'pandas.core.frame.DataFrame'>\n",
      "RangeIndex: 4545007 entries, 0 to 4545006\n",
      "Data columns (total 4 columns):\n",
      " #   Column             Non-Null Count    Dtype  \n",
      "---  ------             --------------    -----  \n",
      " 0   order_id           4545007 non-null  int64  \n",
      " 1   product_id         4545007 non-null  int64  \n",
      " 2   add_to_cart_order  4544171 non-null  float64\n",
      " 3   reordered          4545007 non-null  int64  \n",
      "dtypes: float64(1), int64(3)\n",
      "memory usage: 138.7 MB\n"
     ]
    }
   ],
   "source": [
    "orders.info(show_counts=True)"
   ]
  },
  {
   "cell_type": "code",
   "execution_count": 67,
   "id": "8d2750b7",
   "metadata": {},
   "outputs": [
    {
     "data": {
      "text/html": [
       "<div>\n",
       "<style scoped>\n",
       "    .dataframe tbody tr th:only-of-type {\n",
       "        vertical-align: middle;\n",
       "    }\n",
       "\n",
       "    .dataframe tbody tr th {\n",
       "        vertical-align: top;\n",
       "    }\n",
       "\n",
       "    .dataframe thead th {\n",
       "        text-align: right;\n",
       "    }\n",
       "</style>\n",
       "<table border=\"1\" class=\"dataframe\">\n",
       "  <thead>\n",
       "    <tr style=\"text-align: right;\">\n",
       "      <th></th>\n",
       "      <th>aisle_id</th>\n",
       "      <th>aisle</th>\n",
       "    </tr>\n",
       "  </thead>\n",
       "  <tbody>\n",
       "    <tr>\n",
       "      <th>0</th>\n",
       "      <td>1</td>\n",
       "      <td>prepared soups salads</td>\n",
       "    </tr>\n",
       "    <tr>\n",
       "      <th>1</th>\n",
       "      <td>2</td>\n",
       "      <td>specialty cheeses</td>\n",
       "    </tr>\n",
       "    <tr>\n",
       "      <th>2</th>\n",
       "      <td>3</td>\n",
       "      <td>energy granola bars</td>\n",
       "    </tr>\n",
       "    <tr>\n",
       "      <th>3</th>\n",
       "      <td>4</td>\n",
       "      <td>instant foods</td>\n",
       "    </tr>\n",
       "    <tr>\n",
       "      <th>4</th>\n",
       "      <td>5</td>\n",
       "      <td>marinades meat preparation</td>\n",
       "    </tr>\n",
       "  </tbody>\n",
       "</table>\n",
       "</div>"
      ],
      "text/plain": [
       "   aisle_id                       aisle\n",
       "0         1       prepared soups salads\n",
       "1         2           specialty cheeses\n",
       "2         3         energy granola bars\n",
       "3         4               instant foods\n",
       "4         5  marinades meat preparation"
      ]
     },
     "execution_count": 67,
     "metadata": {},
     "output_type": "execute_result"
    }
   ],
   "source": [
    "aisles.head()"
   ]
  },
  {
   "cell_type": "code",
   "execution_count": 68,
   "id": "4a9dd914",
   "metadata": {},
   "outputs": [
    {
     "name": "stdout",
     "output_type": "stream",
     "text": [
      "<class 'pandas.core.frame.DataFrame'>\n",
      "RangeIndex: 134 entries, 0 to 133\n",
      "Data columns (total 2 columns):\n",
      " #   Column    Non-Null Count  Dtype \n",
      "---  ------    --------------  ----- \n",
      " 0   aisle_id  134 non-null    int64 \n",
      " 1   aisle     134 non-null    object\n",
      "dtypes: int64(1), object(1)\n",
      "memory usage: 2.2+ KB\n"
     ]
    }
   ],
   "source": [
    "aisles.info()"
   ]
  },
  {
   "cell_type": "markdown",
   "id": "e582131c",
   "metadata": {},
   "source": [
    "# Paso 2. Preprocesamiento de los datos\n",
    "\n",
    "Preprocesa los datos de la siguiente manera:\n",
    "\n",
    "- Verifica y corrige los tipos de datos (por ejemplo, asegúrate de que las columnas de ID sean números enteros).\n",
    "- Identifica y completa los valores ausentes.\n",
    "- Identifica y elimina los valores duplicados.\n",
    "\n",
    "Asegúrate de explicar qué tipos de valores ausentes y duplicados encontraste, cómo los completaste o eliminaste y por qué usaste esos métodos. ¿Por qué crees que estos valores ausentes y duplicados pueden haber estado presentes en el conjunto de datos?"
   ]
  },
  {
   "cell_type": "markdown",
   "id": "7c739e7f",
   "metadata": {},
   "source": [
    "## Plan de solución\n",
    "\n",
    "Escribe aquí tu plan para el Paso 2. Preprocesamiento de los datos.\n",
    "\n",
    "Para cada evaluación, se analizarán los datos para encontrar por que se duplican, porqué son atípicos y porqué serán nulos."
   ]
  },
  {
   "cell_type": "markdown",
   "id": "9eaaf234",
   "metadata": {},
   "source": [
    "## Encuentra y elimina los valores duplicados (y describe cómo tomaste tus decisiones)."
   ]
  },
  {
   "cell_type": "markdown",
   "id": "36cb9b38",
   "metadata": {},
   "source": [
    "### `instacart_orders` data frame"
   ]
  },
  {
   "cell_type": "code",
   "execution_count": 69,
   "id": "aa545bb9",
   "metadata": {},
   "outputs": [
    {
     "name": "stdout",
     "output_type": "stream",
     "text": [
      "Este dataframe contiene 15 duplicados\n"
     ]
    }
   ],
   "source": [
    "print(f'Este dataframe contiene {instacart.duplicated().sum()} duplicados')"
   ]
  },
  {
   "cell_type": "markdown",
   "id": "185f5ad9",
   "metadata": {},
   "source": [
    "¿Tienes líneas duplicadas? Si sí, ¿qué tienen en común?"
   ]
  },
  {
   "cell_type": "code",
   "execution_count": 70,
   "id": "bc0a7334",
   "metadata": {},
   "outputs": [
    {
     "name": "stdout",
     "output_type": "stream",
     "text": [
      "Este filtro contiene 15 valores duplicados\n"
     ]
    }
   ],
   "source": [
    "# Basándote en tus hallazgos,\n",
    "# Verifica todos los pedidos que se hicieron el miércoles a las 2:00 a.m.\n",
    "instacart_wednesday_2am = instacart[(instacart['order_dow']==3) & (instacart['order_hour_of_day']==2)]\n",
    "instacart_wednesday_2am_duplicated = instacart_wednesday_2am.duplicated()\n",
    "row_duplicates = instacart_wednesday_2am[instacart_wednesday_2am_duplicated]\n",
    "print(f'Este filtro contiene {instacart_wednesday_2am_duplicated.sum()} valores duplicados')"
   ]
  },
  {
   "cell_type": "markdown",
   "id": "ea6bc848",
   "metadata": {},
   "source": [
    "¿Qué sugiere este resultado?\n",
    "\n",
    "El día miércoles hubo 15 valores duplicados. Fue el único día que hubo duplicados, ya que en total eran 15 en el data set instacart_orders. Por lo que podemos mencionar que hubo un problema el día miercoles a las 2 am, ya que se presentaron 15 pedidos duplicados."
   ]
  },
  {
   "cell_type": "code",
   "execution_count": 71,
   "id": "05906b14",
   "metadata": {},
   "outputs": [],
   "source": [
    "instacart = instacart.drop_duplicates().reset_index(drop=True)\n",
    "# Elimina los pedidos duplicados"
   ]
  },
  {
   "cell_type": "code",
   "execution_count": 72,
   "id": "b327434f",
   "metadata": {},
   "outputs": [
    {
     "name": "stdout",
     "output_type": "stream",
     "text": [
      "0\n"
     ]
    }
   ],
   "source": [
    "print(instacart.duplicated().sum())\n",
    "# Vuelve a verificar si hay filas duplicadas"
   ]
  },
  {
   "cell_type": "code",
   "execution_count": 73,
   "id": "73c3eff8",
   "metadata": {},
   "outputs": [
    {
     "name": "stdout",
     "output_type": "stream",
     "text": [
      "0\n"
     ]
    }
   ],
   "source": [
    "print(instacart['order_id'].duplicated().sum())\n",
    "# Vuelve a verificar si hay IDs duplicados de pedidos"
   ]
  },
  {
   "cell_type": "markdown",
   "id": "df2ded78",
   "metadata": {},
   "source": [
    "Describe brevemente tus hallazgos y lo que hiciste con ellos\n",
    "\n",
    "Encontré que habia 15 lineas completamente duplicadas, siendo todas el día miercoles a las 2:00 am, procedí a eliminarlos con el método drop_duplicates() y a reasignar el indice. "
   ]
  },
  {
   "cell_type": "markdown",
   "id": "ad0d8cfc",
   "metadata": {},
   "source": [
    "### `products` data frame"
   ]
  },
  {
   "cell_type": "code",
   "execution_count": 74,
   "id": "3462a244",
   "metadata": {},
   "outputs": [
    {
     "name": "stdout",
     "output_type": "stream",
     "text": [
      "Este dataframe contiene 0 filas duplicadas\n"
     ]
    }
   ],
   "source": [
    "print(f'Este dataframe contiene {products.duplicated().sum()} filas duplicadas')"
   ]
  },
  {
   "cell_type": "code",
   "execution_count": 75,
   "id": "cdf62217",
   "metadata": {},
   "outputs": [
    {
     "name": "stdout",
     "output_type": "stream",
     "text": [
      "Esta columna contiene 0 valores duplicados\n"
     ]
    }
   ],
   "source": [
    "print(f'Esta columna contiene {products['product_id'].duplicated().sum()} valores duplicados')\n",
    "\n",
    "# Verifica si hay IDs duplicadas de productos"
   ]
  },
  {
   "cell_type": "code",
   "execution_count": 76,
   "id": "f49b9108",
   "metadata": {},
   "outputs": [
    {
     "name": "stdout",
     "output_type": "stream",
     "text": [
      "Esta columna contiene 1361 valores duplicados\n"
     ]
    }
   ],
   "source": [
    "product_upper = products['product_name'].str.upper()\n",
    "print(f'Esta columna contiene {product_upper.duplicated().sum()} valores duplicados')\n",
    "# Revisa si hay nombres duplicados de productos (convierte los nombres a letras mayúsculas para compararlos mejor)"
   ]
  },
  {
   "cell_type": "code",
   "execution_count": 77,
   "id": "9fe8059f",
   "metadata": {},
   "outputs": [
    {
     "name": "stdout",
     "output_type": "stream",
     "text": [
      "Del total de duplicados, 1258 son valores ausentes\n"
     ]
    }
   ],
   "source": [
    "print(f'Del total de duplicados, {product_upper.isna().sum()} son valores ausentes')\n",
    "# Revisa si hay nombres duplicados de productos no faltantes"
   ]
  },
  {
   "cell_type": "code",
   "execution_count": 78,
   "id": "68ad4521",
   "metadata": {},
   "outputs": [],
   "source": [
    "products['product_name'].fillna('Unknown',inplace=True)"
   ]
  },
  {
   "cell_type": "markdown",
   "id": "d22b4070",
   "metadata": {},
   "source": [
    "Describe brevemente tus hallazgos y lo que hiciste con ellos.\n",
    "\n",
    "No hay filas completamente duplicadas, pero hay 1361 nombres duplicados de productos, de los cuales 1258 son ausentes.\n",
    "\n",
    "Procedí a rellenar los nombres de productos nulos por la leyenda \"Unknown\" que se traduce como desconocido.\n",
    "\n",
    "Realmente no es importante eliminar los valores duplicados de nombres de artículos, esto nos indica que se han comprado varias veces un mísmo producto, no refiere a una fila o pedido duplicado, solo la recompra del producto, incluso es bueno ver que hay recompra de los productos."
   ]
  },
  {
   "cell_type": "markdown",
   "id": "5e3e0693",
   "metadata": {},
   "source": [
    "### `aisles` data frame"
   ]
  },
  {
   "cell_type": "code",
   "execution_count": 79,
   "id": "5311d0c7",
   "metadata": {},
   "outputs": [
    {
     "name": "stdout",
     "output_type": "stream",
     "text": [
      "Este dataframe contiene 0 filas completamente duplicadas\n"
     ]
    }
   ],
   "source": [
    "print(f'Este dataframe contiene {aisles.duplicated().sum()} filas completamente duplicadas')\n",
    "# Revisa si hay filas totalmente duplicadas"
   ]
  },
  {
   "cell_type": "markdown",
   "id": "c0c319ea",
   "metadata": {},
   "source": [
    "### `departments` data frame"
   ]
  },
  {
   "cell_type": "code",
   "execution_count": 80,
   "id": "7564b67b",
   "metadata": {},
   "outputs": [
    {
     "name": "stdout",
     "output_type": "stream",
     "text": [
      "Este dataframe contiene 0 filas completamente duplicadas\n"
     ]
    }
   ],
   "source": [
    "print(f'Este dataframe contiene {departments.duplicated().sum()} filas completamente duplicadas')\n",
    "# Revisa si hay filas totalmente duplicadas"
   ]
  },
  {
   "cell_type": "code",
   "execution_count": 81,
   "id": "b7f27cc9",
   "metadata": {},
   "outputs": [
    {
     "name": "stdout",
     "output_type": "stream",
     "text": [
      "Esta columna contiene 0 valores duplicados\n"
     ]
    }
   ],
   "source": [
    "print(f'Esta columna contiene {departments['department_id'].duplicated().sum()} valores duplicados')\n",
    "# Revisa si hay IDs duplicadas de productos"
   ]
  },
  {
   "cell_type": "markdown",
   "id": "65c3e544",
   "metadata": {},
   "source": [
    "No hay datos duplicados en el data frame departments, son 21 filas, de la 0 a la 20, donde no hubo recuento de filas totalmente duplicadas y tampoco al filtrar la columna department_id se encontraron id's duplicados.\n",
    "\n",
    "Describe brevemente tus hallazgos y lo que hiciste con ellos."
   ]
  },
  {
   "cell_type": "markdown",
   "id": "b0c43cae",
   "metadata": {},
   "source": [
    "### `order_products` data frame"
   ]
  },
  {
   "cell_type": "code",
   "execution_count": 82,
   "id": "39dfd60d",
   "metadata": {},
   "outputs": [
    {
     "name": "stdout",
     "output_type": "stream",
     "text": [
      "Este dataframe contiene 0 filas completamente duplicadas\n"
     ]
    }
   ],
   "source": [
    "print(f'Este dataframe contiene {orders.duplicated().sum()} filas completamente duplicadas')\n",
    "# Revisa si hay filas totalmente duplicadas"
   ]
  },
  {
   "cell_type": "code",
   "execution_count": 83,
   "id": "16b9cb49",
   "metadata": {},
   "outputs": [
    {
     "name": "stdout",
     "output_type": "stream",
     "text": [
      "La columna order_id tiene 4094961 valores duplicados\n",
      "La columna product_id tiene 4499434 valores duplicados\n",
      "La columna add_to_cart_order tiene 4544942 valores duplicados\n",
      "La columna reordered tiene 4545005 valores duplicados\n"
     ]
    }
   ],
   "source": [
    "# Vuelve a verificar si hay cualquier otro duplicado engañoso\n",
    "for col_name, col_data in orders.iteritems():\n",
    "    print(f\"La columna {col_name} tiene {col_data.duplicated().sum()} valores duplicados\")"
   ]
  },
  {
   "cell_type": "markdown",
   "id": "ca8fa787",
   "metadata": {},
   "source": [
    "Describe brevemente tus hallazgos y lo que hiciste con ellos.\n",
    "\n",
    "Filas totalmente duplicadas no hay, pero por columna si hay datos duplicados. "
   ]
  },
  {
   "cell_type": "markdown",
   "id": "1240607c",
   "metadata": {},
   "source": [
    "## Encuentra y elimina los valores ausentes\n",
    "\n",
    "Al trabajar con valores duplicados, pudimos observar que también nos falta investigar valores ausentes:\n",
    "\n",
    "* La columna `'product_name'` de la tabla products.\n",
    "* La columna `'days_since_prior_order'` de la tabla orders.\n",
    "* La columna `'add_to_cart_order'` de la tabla order_productos."
   ]
  },
  {
   "cell_type": "markdown",
   "id": "5e9ac213",
   "metadata": {},
   "source": [
    "### `products` data frame"
   ]
  },
  {
   "cell_type": "markdown",
   "id": "2ef0b7a4",
   "metadata": {},
   "source": [
    "En este caso, ya se había rellenado los valores ausentes por la leyenda unknown, por lo que se evalua si aun contiene ausentes."
   ]
  },
  {
   "cell_type": "code",
   "execution_count": 84,
   "id": "f4e71217",
   "metadata": {},
   "outputs": [
    {
     "name": "stdout",
     "output_type": "stream",
     "text": [
      "Este dataframe tiene 0 valores ausentes\n"
     ]
    }
   ],
   "source": [
    "print(f'Este dataframe tiene {products['product_name'].isna().sum()} valores ausentes')"
   ]
  },
  {
   "cell_type": "markdown",
   "id": "5c704b99",
   "metadata": {},
   "source": [
    "Como vemos, ya no contiene ausentes, se decidió rellenar ya que lo único que no se conoce es el nombre del producto, pero los otros datos nos pueden ser de utilidad."
   ]
  },
  {
   "cell_type": "code",
   "execution_count": 85,
   "id": "3641d80d",
   "metadata": {},
   "outputs": [
    {
     "name": "stdout",
     "output_type": "stream",
     "text": [
      "       product_id product_name  aisle_id  department_id\n",
      "37             38      Unknown       100             21\n",
      "71             72      Unknown       100             21\n",
      "109           110      Unknown       100             21\n",
      "296           297      Unknown       100             21\n",
      "416           417      Unknown       100             21\n",
      "...           ...          ...       ...            ...\n",
      "49552       49553      Unknown       100             21\n",
      "49574       49575      Unknown       100             21\n",
      "49640       49641      Unknown       100             21\n",
      "49663       49664      Unknown       100             21\n",
      "49668       49669      Unknown       100             21\n",
      "\n",
      "[1258 rows x 4 columns]\n"
     ]
    }
   ],
   "source": [
    "print(products[products['aisle_id']==100])\n",
    "#  ¿Todos los nombres de productos ausentes están relacionados con el pasillo con ID 100?"
   ]
  },
  {
   "cell_type": "markdown",
   "id": "b55b29d4",
   "metadata": {},
   "source": [
    "Describe brevemente cuáles son tus hallazgos.\n",
    "\n",
    "Todos los nombres ausentes corresponden con el pasillo 100, toda la información del pasillo 100 tenía NaN como nombre y fue cambiado a Unknown."
   ]
  },
  {
   "cell_type": "code",
   "execution_count": 86,
   "id": "fbe87faf",
   "metadata": {},
   "outputs": [
    {
     "name": "stdout",
     "output_type": "stream",
     "text": [
      "       product_id product_name  aisle_id  department_id\n",
      "37             38      Unknown       100             21\n",
      "71             72      Unknown       100             21\n",
      "109           110      Unknown       100             21\n",
      "296           297      Unknown       100             21\n",
      "416           417      Unknown       100             21\n",
      "...           ...          ...       ...            ...\n",
      "49552       49553      Unknown       100             21\n",
      "49574       49575      Unknown       100             21\n",
      "49640       49641      Unknown       100             21\n",
      "49663       49664      Unknown       100             21\n",
      "49668       49669      Unknown       100             21\n",
      "\n",
      "[1258 rows x 4 columns]\n"
     ]
    }
   ],
   "source": [
    "print(products[products['department_id']==21])\n",
    "# ¿Todos los nombres de productos ausentes están relacionados con el departamento con ID 21?"
   ]
  },
  {
   "cell_type": "markdown",
   "id": "81f56039",
   "metadata": {},
   "source": [
    "Describe brevemente cuáles son tus hallazgos.\n",
    "\n",
    "Todos los nombres ausentes coinciden con el departamento 21. Cuando filtramos los productos por el departamento 21, encontramos unknown en los nombres de productos."
   ]
  },
  {
   "cell_type": "code",
   "execution_count": 87,
   "id": "d6c2f4ee",
   "metadata": {},
   "outputs": [
    {
     "name": "stdout",
     "output_type": "stream",
     "text": [
      "    department_id department\n",
      "20             21    missing\n",
      "------------------------------\n",
      "    aisle_id    aisle\n",
      "99       100  missing\n"
     ]
    }
   ],
   "source": [
    "# Usa las tablas department y aisle para revisar los datos del pasillo con ID 100 y el departamento con ID 21.\n",
    "\n",
    "print(departments[departments['department_id']==21])\n",
    "print('-'*30)\n",
    "print(aisles[aisles['aisle_id']==100])"
   ]
  },
  {
   "cell_type": "markdown",
   "id": "9f10723d",
   "metadata": {},
   "source": [
    "Describe brevemente cuáles son tus hallazgos.\n",
    "\n",
    "Los valores ausentes en nuestro data frame corresponde al departamento 21 y pasillo 100, por lo que podríamos decir que se omitieron los nombres en la captura de datos, hubo algun problema o alguna otra razón."
   ]
  },
  {
   "cell_type": "markdown",
   "id": "4821d7e3",
   "metadata": {},
   "source": [
    "### `orders` data frame"
   ]
  },
  {
   "cell_type": "code",
   "execution_count": 88,
   "id": "9bed3992",
   "metadata": {},
   "outputs": [
    {
     "data": {
      "text/plain": [
       "order_id               0\n",
       "product_id             0\n",
       "add_to_cart_order    836\n",
       "reordered              0\n",
       "dtype: int64"
      ]
     },
     "execution_count": 88,
     "metadata": {},
     "output_type": "execute_result"
    }
   ],
   "source": [
    "orders.isna().sum()"
   ]
  },
  {
   "cell_type": "code",
   "execution_count": 89,
   "id": "715eacb1",
   "metadata": {},
   "outputs": [
    {
     "name": "stdout",
     "output_type": "stream",
     "text": [
      "El valor mínimo del orden en agregar al carrito es: 1.0\n",
      "\n",
      "El valor máximo del orden en agregar al carrito es: 64.0\n"
     ]
    }
   ],
   "source": [
    "print(f'El valor mínimo del orden en agregar al carrito es: {orders['add_to_cart_order'].min()}')\n",
    "print()\n",
    "print(f'El valor máximo del orden en agregar al carrito es: {orders['add_to_cart_order'].max()}')\n",
    "\n",
    "\n",
    "# ¿Cuáles son los valores mínimos y máximos en esta columna?"
   ]
  },
  {
   "cell_type": "code",
   "execution_count": 90,
   "id": "65694d67",
   "metadata": {},
   "outputs": [
    {
     "data": {
      "text/html": [
       "<div>\n",
       "<style scoped>\n",
       "    .dataframe tbody tr th:only-of-type {\n",
       "        vertical-align: middle;\n",
       "    }\n",
       "\n",
       "    .dataframe tbody tr th {\n",
       "        vertical-align: top;\n",
       "    }\n",
       "\n",
       "    .dataframe thead th {\n",
       "        text-align: right;\n",
       "    }\n",
       "</style>\n",
       "<table border=\"1\" class=\"dataframe\">\n",
       "  <thead>\n",
       "    <tr style=\"text-align: right;\">\n",
       "      <th></th>\n",
       "      <th>order_id</th>\n",
       "      <th>product_id</th>\n",
       "      <th>add_to_cart_order</th>\n",
       "      <th>reordered</th>\n",
       "    </tr>\n",
       "  </thead>\n",
       "  <tbody>\n",
       "    <tr>\n",
       "      <th>737</th>\n",
       "      <td>2449164</td>\n",
       "      <td>5068</td>\n",
       "      <td>NaN</td>\n",
       "      <td>0</td>\n",
       "    </tr>\n",
       "    <tr>\n",
       "      <th>9926</th>\n",
       "      <td>1968313</td>\n",
       "      <td>43867</td>\n",
       "      <td>NaN</td>\n",
       "      <td>0</td>\n",
       "    </tr>\n",
       "    <tr>\n",
       "      <th>14394</th>\n",
       "      <td>2926893</td>\n",
       "      <td>11688</td>\n",
       "      <td>NaN</td>\n",
       "      <td>0</td>\n",
       "    </tr>\n",
       "    <tr>\n",
       "      <th>16418</th>\n",
       "      <td>1717990</td>\n",
       "      <td>4142</td>\n",
       "      <td>NaN</td>\n",
       "      <td>0</td>\n",
       "    </tr>\n",
       "    <tr>\n",
       "      <th>30114</th>\n",
       "      <td>1959075</td>\n",
       "      <td>42828</td>\n",
       "      <td>NaN</td>\n",
       "      <td>1</td>\n",
       "    </tr>\n",
       "    <tr>\n",
       "      <th>...</th>\n",
       "      <td>...</td>\n",
       "      <td>...</td>\n",
       "      <td>...</td>\n",
       "      <td>...</td>\n",
       "    </tr>\n",
       "    <tr>\n",
       "      <th>4505662</th>\n",
       "      <td>1800005</td>\n",
       "      <td>7411</td>\n",
       "      <td>NaN</td>\n",
       "      <td>0</td>\n",
       "    </tr>\n",
       "    <tr>\n",
       "      <th>4511400</th>\n",
       "      <td>1633337</td>\n",
       "      <td>260</td>\n",
       "      <td>NaN</td>\n",
       "      <td>0</td>\n",
       "    </tr>\n",
       "    <tr>\n",
       "      <th>4517562</th>\n",
       "      <td>404157</td>\n",
       "      <td>9517</td>\n",
       "      <td>NaN</td>\n",
       "      <td>0</td>\n",
       "    </tr>\n",
       "    <tr>\n",
       "      <th>4534112</th>\n",
       "      <td>1673227</td>\n",
       "      <td>17835</td>\n",
       "      <td>NaN</td>\n",
       "      <td>0</td>\n",
       "    </tr>\n",
       "    <tr>\n",
       "      <th>4535739</th>\n",
       "      <td>1832957</td>\n",
       "      <td>17949</td>\n",
       "      <td>NaN</td>\n",
       "      <td>1</td>\n",
       "    </tr>\n",
       "  </tbody>\n",
       "</table>\n",
       "<p>836 rows × 4 columns</p>\n",
       "</div>"
      ],
      "text/plain": [
       "         order_id  product_id  add_to_cart_order  reordered\n",
       "737       2449164        5068                NaN          0\n",
       "9926      1968313       43867                NaN          0\n",
       "14394     2926893       11688                NaN          0\n",
       "16418     1717990        4142                NaN          0\n",
       "30114     1959075       42828                NaN          1\n",
       "...           ...         ...                ...        ...\n",
       "4505662   1800005        7411                NaN          0\n",
       "4511400   1633337         260                NaN          0\n",
       "4517562    404157        9517                NaN          0\n",
       "4534112   1673227       17835                NaN          0\n",
       "4535739   1832957       17949                NaN          1\n",
       "\n",
       "[836 rows x 4 columns]"
      ]
     },
     "execution_count": 90,
     "metadata": {},
     "output_type": "execute_result"
    }
   ],
   "source": [
    "rows_with_nans = orders[(orders['add_to_cart_order'].isna())]\n",
    "rows_with_nans\n",
    "# Guarda todas las IDs de pedidos que tengan un valor ausente en 'add_to_cart_order'"
   ]
  },
  {
   "cell_type": "code",
   "execution_count": 91,
   "id": "d110dc91",
   "metadata": {},
   "outputs": [
    {
     "name": "stdout",
     "output_type": "stream",
     "text": [
      "Los pedidos que tienen ausentes coinciden con tener un mínimo de 65 productos\n"
     ]
    }
   ],
   "source": [
    "# ¿Todos los pedidos con valores ausentes tienen más de 64 productos?\n",
    "# Agrupa todos los pedidos con datos ausentes por su ID de pedido\n",
    "op_nan = orders[orders['order_id'].isin(rows_with_nans['order_id'])]\n",
    "total_orders_nans = op_nan.groupby('order_id')['product_id'].count().min()\n",
    "print(f'Los pedidos que tienen ausentes coinciden con tener un mínimo de {total_orders_nans} productos')\n",
    "# Cuenta el número de 'product_id' en cada pedido y revisa el valor mínimo del conteo.\n"
   ]
  },
  {
   "cell_type": "markdown",
   "id": "a2c06465",
   "metadata": {},
   "source": [
    "Describe brevemente tus hallazgos y lo que hiciste con ellos.\n",
    "\n",
    "Descubrí que los valores ausentes se producen cuando se hicieron más de 64 productos."
   ]
  },
  {
   "cell_type": "code",
   "execution_count": 92,
   "id": "1454ad4d",
   "metadata": {},
   "outputs": [
    {
     "name": "stdout",
     "output_type": "stream",
     "text": [
      "0          17\n",
      "1           1\n",
      "2           1\n",
      "3          35\n",
      "4           5\n",
      "           ..\n",
      "4545002    12\n",
      "4545003     9\n",
      "4545004     4\n",
      "4545005     8\n",
      "4545006     9\n",
      "Name: add_to_cart_order, Length: 4545007, dtype: int64\n"
     ]
    }
   ],
   "source": [
    "orders['add_to_cart_order'] = orders['add_to_cart_order'].fillna('999')\n",
    "\n",
    "print(orders['add_to_cart_order'].map(int))\n",
    "\n",
    "# Remplaza los valores ausentes en la columna 'add_to_cart? con 999 y convierte la columna al tipo entero.\n"
   ]
  },
  {
   "cell_type": "markdown",
   "id": "36fac032",
   "metadata": {},
   "source": [
    "## Conclusiones\n",
    "\n",
    "Escribe aquí tus conclusiones intermedias sobre el Paso 2. Preprocesamiento de los datos\n",
    "\n",
    "Comprendí que es importante preprocesar los datos, ya que puede haber problemas con su calidad, existiendo malos formatos de captura, ambiguedades, duplicados, omitidos o ausentes. Por lo que es importante modificarlos para tener una calidad importante.\n"
   ]
  },
  {
   "cell_type": "markdown",
   "id": "d82efe34",
   "metadata": {},
   "source": [
    "# Paso 3. Análisis de los datos\n",
    "\n",
    "Una vez los datos estén procesados y listos, haz el siguiente análisis:"
   ]
  },
  {
   "cell_type": "markdown",
   "id": "ce51f1bc",
   "metadata": {},
   "source": [
    "# [A] Fácil (deben completarse todos para aprobar)\n",
    "\n",
    "1. Verifica que los valores en las columnas `'order_hour_of_day'` y `'order_dow'` en la tabla orders sean razonables (es decir, `'order_hour_of_day'` oscile entre 0 y 23 y `'order_dow'` oscile entre 0 y 6).\n",
    "2. Crea un gráfico que muestre el número de personas que hacen pedidos dependiendo de la hora del día.\n",
    "3. Crea un gráfico que muestre qué día de la semana la gente hace sus compras.\n",
    "4. Crea un gráfico que muestre el tiempo que la gente espera hasta hacer su siguiente pedido, y comenta sobre los valores mínimos y máximos."
   ]
  },
  {
   "cell_type": "markdown",
   "id": "ee5e9aa7",
   "metadata": {},
   "source": [
    "### [A1] Verifica que los valores sean sensibles"
   ]
  },
  {
   "cell_type": "code",
   "execution_count": 106,
   "id": "e90d3eaa",
   "metadata": {},
   "outputs": [
    {
     "name": "stdout",
     "output_type": "stream",
     "text": [
      "Rango de horas [ 0  1  2  3  4  5  6  7  8  9 10 11 12 13 14 15 16 17 18 19 20 21 22 23]\n"
     ]
    }
   ],
   "source": [
    "print(f'Rango de horas {np.sort(instacart['order_hour_of_day'].unique())}')"
   ]
  },
  {
   "cell_type": "code",
   "execution_count": 108,
   "id": "dbc071ce",
   "metadata": {},
   "outputs": [
    {
     "name": "stdout",
     "output_type": "stream",
     "text": [
      "Rango de días [0 1 2 3 4 5 6]\n"
     ]
    }
   ],
   "source": [
    "print(f'Rango de días {np.sort(instacart['order_dow'].unique())}')"
   ]
  },
  {
   "cell_type": "markdown",
   "id": "a10752a7",
   "metadata": {},
   "source": [
    "Ambas columnas se encuentran en los rangos establecidos"
   ]
  },
  {
   "cell_type": "markdown",
   "id": "5a08596a",
   "metadata": {},
   "source": [
    "### [A2] Para cada hora del día, ¿cuántas personas hacen órdenes?"
   ]
  },
  {
   "cell_type": "code",
   "execution_count": 110,
   "id": "b6992234",
   "metadata": {},
   "outputs": [
    {
     "data": {
      "text/plain": [
       "<Axes: xlabel='order_hour_of_day'>"
      ]
     },
     "execution_count": 110,
     "metadata": {},
     "output_type": "execute_result"
    },
    {
     "data": {
      "image/png": "[encoded data removed]",
      "text/plain": [
       "<Figure size 640x480 with 1 Axes>"
      ]
     },
     "metadata": {},
     "output_type": "display_data"
    }
   ],
   "source": [
    "orders_per_hour = instacart.groupby('order_hour_of_day')['user_id'].count()\n",
    "orders_per_hour.plot(kind='bar')"
   ]
  },
  {
   "cell_type": "markdown",
   "id": "b599e2d5",
   "metadata": {},
   "source": [
    "Durante el día, el pico de compra es entre las 9 y las 17 horas, por lo que se podría aprovechar dicho pico con una campaña de marketing. Además, las primeras horas del día, de las 12 am a las 6 am, son las que menos ordenes se realizan."
   ]
  },
  {
   "cell_type": "markdown",
   "id": "3a6aa316",
   "metadata": {},
   "source": [
    "### [A3] ¿Qué día de la semana compran víveres las personas?"
   ]
  },
  {
   "cell_type": "code",
   "execution_count": 171,
   "id": "aa694cb7",
   "metadata": {},
   "outputs": [
    {
     "data": {
      "text/plain": [
       "<Axes: xlabel='order_dow'>"
      ]
     },
     "execution_count": 171,
     "metadata": {},
     "output_type": "execute_result"
    },
    {
     "data": {
      "image/png": "[encoded data removed]",
      "text/plain": [
       "<Figure size 500x300 with 1 Axes>"
      ]
     },
     "metadata": {},
     "output_type": "display_data"
    }
   ],
   "source": [
    "orders_per_day = instacart.groupby('order_dow')['user_id'].count()\n",
    "orders_per_day.plot(kind='bar', figsize=(5,3))"
   ]
  },
  {
   "cell_type": "markdown",
   "id": "5d6491a1",
   "metadata": {},
   "source": [
    "Se observa una alza en las compras a partir del día 5, que es igual al día viernes. Por lo que el día que más compran es el día domingo, el dia lunes tambien parece ser el preferido para hacer víveres. El día que menos compras se realizan es el día jueves."
   ]
  },
  {
   "cell_type": "markdown",
   "id": "051581b7",
   "metadata": {},
   "source": [
    "### [A4] ¿Cuánto tiempo esperan las personas hasta hacer otro pedido? Comenta sobre los valores mínimos y máximos."
   ]
  },
  {
   "cell_type": "code",
   "execution_count": 136,
   "id": "0222a4e7",
   "metadata": {},
   "outputs": [
    {
     "data": {
      "text/plain": [
       "<Axes: >"
      ]
     },
     "execution_count": 136,
     "metadata": {},
     "output_type": "execute_result"
    },
    {
     "data": {
      "image/png": "[encoded data removed]",
      "text/plain": [
       "<Figure size 640x480 with 1 Axes>"
      ]
     },
     "metadata": {},
     "output_type": "display_data"
    }
   ],
   "source": [
    "time_to_reorder = instacart.groupby('days_since_prior_order')['user_id'].count().reset_index()\n",
    "time_to_reorder['user_id'].plot(kind='bar')"
   ]
  },
  {
   "cell_type": "markdown",
   "id": "c68fc0eb",
   "metadata": {},
   "source": [
    "Los usuarios esperan 30 días como valor máximo para reordenar, mientras que como valores minimos, esperan entre 24 y 27 días.\n",
    "Los valores del 0 corresponden a las compras diarias, los valores del día 7 sufren una alza ya que simbolizan compras semanales y el día 30, compras mensuales."
   ]
  },
  {
   "cell_type": "markdown",
   "id": "11847f41",
   "metadata": {},
   "source": [
    "# [B] Intermedio (deben completarse todos para aprobar)\n",
    "\n",
    "1. ¿Existe alguna diferencia entre las distribuciones `'order_hour_of_day'` de los miércoles y los sábados? Traza gráficos de barra de `'order_hour_of_day'` para ambos días en la misma figura y describe las diferencias que observes.\n",
    "2. Grafica la distribución para el número de órdenes que hacen los clientes (es decir, cuántos clientes hicieron solo 1 pedido, cuántos hicieron 2, cuántos 3, y así sucesivamente...).\n",
    "3. ¿Cuáles son los 20 principales productos que se piden con más frecuencia (muestra su identificación y nombre)?"
   ]
  },
  {
   "cell_type": "markdown",
   "id": "83333abb",
   "metadata": {},
   "source": [
    "### [B1] Diferencia entre miércoles y sábados para  `'order_hour_of_day'`. Traza gráficos de barra para los dos días y describe las diferencias que veas."
   ]
  },
  {
   "cell_type": "code",
   "execution_count": 151,
   "id": "de0eccea",
   "metadata": {},
   "outputs": [
    {
     "data": {
      "text/html": [
       "<div>\n",
       "<style scoped>\n",
       "    .dataframe tbody tr th:only-of-type {\n",
       "        vertical-align: middle;\n",
       "    }\n",
       "\n",
       "    .dataframe tbody tr th {\n",
       "        vertical-align: top;\n",
       "    }\n",
       "\n",
       "    .dataframe thead th {\n",
       "        text-align: right;\n",
       "    }\n",
       "</style>\n",
       "<table border=\"1\" class=\"dataframe\">\n",
       "  <thead>\n",
       "    <tr style=\"text-align: right;\">\n",
       "      <th></th>\n",
       "      <th>Wednesday</th>\n",
       "      <th>Saturday</th>\n",
       "    </tr>\n",
       "    <tr>\n",
       "      <th>order_hour_of_day</th>\n",
       "      <th></th>\n",
       "      <th></th>\n",
       "    </tr>\n",
       "  </thead>\n",
       "  <tbody>\n",
       "    <tr>\n",
       "      <th>0</th>\n",
       "      <td>373</td>\n",
       "      <td>464</td>\n",
       "    </tr>\n",
       "    <tr>\n",
       "      <th>1</th>\n",
       "      <td>215</td>\n",
       "      <td>254</td>\n",
       "    </tr>\n",
       "    <tr>\n",
       "      <th>2</th>\n",
       "      <td>106</td>\n",
       "      <td>177</td>\n",
       "    </tr>\n",
       "    <tr>\n",
       "      <th>3</th>\n",
       "      <td>101</td>\n",
       "      <td>125</td>\n",
       "    </tr>\n",
       "    <tr>\n",
       "      <th>4</th>\n",
       "      <td>108</td>\n",
       "      <td>118</td>\n",
       "    </tr>\n",
       "  </tbody>\n",
       "</table>\n",
       "</div>"
      ],
      "text/plain": [
       "                   Wednesday  Saturday\n",
       "order_hour_of_day                     \n",
       "0                        373       464\n",
       "1                        215       254\n",
       "2                        106       177\n",
       "3                        101       125\n",
       "4                        108       118"
      ]
     },
     "execution_count": 151,
     "metadata": {},
     "output_type": "execute_result"
    }
   ],
   "source": [
    "wednesday = instacart[instacart['order_dow']==3].groupby('order_hour_of_day')['order_id'].count()\n",
    "saturday = instacart[instacart['order_dow']==6].groupby('order_hour_of_day')['order_id'].count()\n",
    "compared_days = pd.concat([wednesday,saturday],axis=1)\n",
    "compared_days.columns = ['Wednesday','Saturday']\n",
    "compared_days.head()"
   ]
  },
  {
   "cell_type": "code",
   "execution_count": 152,
   "id": "1e1b588f",
   "metadata": {},
   "outputs": [
    {
     "data": {
      "text/plain": [
       "<Axes: xlabel='order_hour_of_day'>"
      ]
     },
     "execution_count": 152,
     "metadata": {},
     "output_type": "execute_result"
    },
    {
     "data": {
      "image/png": "[encoded data removed]",
      "text/plain": [
       "<Figure size 640x480 with 1 Axes>"
      ]
     },
     "metadata": {},
     "output_type": "display_data"
    }
   ],
   "source": [
    "compared_days.plot(kind='bar')"
   ]
  },
  {
   "cell_type": "markdown",
   "id": "df8fb411",
   "metadata": {},
   "source": [
    "El día miercoles se pide más en horario temprano, entre 6 10 am. Pero el resto del día, el día sabado es cuando más se ordena."
   ]
  },
  {
   "cell_type": "markdown",
   "id": "a1a6b229",
   "metadata": {},
   "source": [
    "### [B2] ¿Cuál es la distribución para el número de pedidos por cliente?"
   ]
  },
  {
   "cell_type": "code",
   "execution_count": 172,
   "id": "766b7eab",
   "metadata": {},
   "outputs": [
    {
     "data": {
      "text/plain": [
       "<Axes: ylabel='Frequency'>"
      ]
     },
     "execution_count": 172,
     "metadata": {},
     "output_type": "execute_result"
    },
    {
     "data": {
      "image/png": "[encoded data removed]",
      "text/plain": [
       "<Figure size 500x300 with 1 Axes>"
      ]
     },
     "metadata": {},
     "output_type": "display_data"
    }
   ],
   "source": [
    "total_orders_per_client = instacart.groupby('user_id')['order_number'].count()\n",
    "total_orders_per_client.plot(kind='hist',figsize=(5,3))"
   ]
  },
  {
   "cell_type": "markdown",
   "id": "a3547ff0",
   "metadata": {},
   "source": [
    "La mayoría de clientes han hecho menos de 5 pedidos."
   ]
  },
  {
   "cell_type": "code",
   "execution_count": 173,
   "id": "fe84170f",
   "metadata": {},
   "outputs": [
    {
     "data": {
      "text/plain": [
       "<Axes: >"
      ]
     },
     "execution_count": 173,
     "metadata": {},
     "output_type": "execute_result"
    },
    {
     "data": {
      "image/png": "[encoded data removed]",
      "text/plain": [
       "<Figure size 500x300 with 1 Axes>"
      ]
     },
     "metadata": {},
     "output_type": "display_data"
    }
   ],
   "source": [
    "total_orders_per_client.plot(kind='box',figsize=(5,3))"
   ]
  },
  {
   "cell_type": "markdown",
   "id": "2d46a35d",
   "metadata": {},
   "source": [
    "### [B3] ¿Cuáles son los 20 productos más populares (muestra su ID y nombre)?"
   ]
  },
  {
   "cell_type": "code",
   "execution_count": 219,
   "id": "96f31e9a",
   "metadata": {},
   "outputs": [
    {
     "data": {
      "text/html": [
       "<div>\n",
       "<style scoped>\n",
       "    .dataframe tbody tr th:only-of-type {\n",
       "        vertical-align: middle;\n",
       "    }\n",
       "\n",
       "    .dataframe tbody tr th {\n",
       "        vertical-align: top;\n",
       "    }\n",
       "\n",
       "    .dataframe thead th {\n",
       "        text-align: right;\n",
       "    }\n",
       "</style>\n",
       "<table border=\"1\" class=\"dataframe\">\n",
       "  <thead>\n",
       "    <tr style=\"text-align: right;\">\n",
       "      <th></th>\n",
       "      <th>product_id</th>\n",
       "      <th>order_id</th>\n",
       "      <th>product_name</th>\n",
       "    </tr>\n",
       "  </thead>\n",
       "  <tbody>\n",
       "    <tr>\n",
       "      <th>0</th>\n",
       "      <td>24852</td>\n",
       "      <td>66050</td>\n",
       "      <td>Banana</td>\n",
       "    </tr>\n",
       "  </tbody>\n",
       "</table>\n",
       "</div>"
      ],
      "text/plain": [
       "   product_id  order_id product_name\n",
       "0       24852     66050       Banana"
      ]
     },
     "execution_count": 219,
     "metadata": {},
     "output_type": "execute_result"
    }
   ],
   "source": [
    "top_products = orders.groupby('product_id')['order_id'].count().sort_values(ascending=False).reset_index()\n",
    "top_20 = pd.merge(top_products,products, on = 'product_id').head(20)\n",
    "dropped_cols = ['aisle_id','department_id']\n",
    "top_20 = top_20.drop(dropped_cols,axis='columns')\n",
    "top_20.head(1)"
   ]
  },
  {
   "cell_type": "code",
   "execution_count": 220,
   "id": "f94f9832",
   "metadata": {},
   "outputs": [
    {
     "data": {
      "image/png": "[encoded data removed]",
      "text/plain": [
       "<Figure size 1200x500 with 1 Axes>"
      ]
     },
     "metadata": {},
     "output_type": "display_data"
    }
   ],
   "source": [
    "plt.figure(figsize=(12,5))\n",
    "plt.bar(top_20['product_name'],top_20['order_id'])\n",
    "plt.xticks(rotation=45,ha='right')\n",
    "plt.title('Top 20 de productos más comprados')\n",
    "plt.tight_layout()\n",
    "plt.show()"
   ]
  },
  {
   "cell_type": "markdown",
   "id": "651d06df",
   "metadata": {},
   "source": [
    "Los productos que más se vendieron son platanos, bolsas de platano, fresas, espinacas y aguacate."
   ]
  },
  {
   "cell_type": "markdown",
   "id": "819eae9e",
   "metadata": {},
   "source": [
    "# [C] Difícil (deben completarse todos para aprobar)\n",
    "\n",
    "1. ¿Cuántos artículos suelen comprar las personas en un pedido? ¿Cómo es la distribución?\n",
    "2. ¿Cuáles son los 20 principales artículos que vuelven a pedirse con mayor frecuencia (muestra sus nombres e IDs de los productos)?\n",
    "3. Para cada producto, ¿cuál es la tasa de repetición del pedido (número de repeticiones de pedido/total de pedidos?\n",
    "4. Para cada cliente, ¿qué proporción de los productos que pidió ya los había pedido? Calcula la tasa de repetición de pedido para cada usuario en lugar de para cada producto.\n",
    "5. ¿Cuáles son los 20 principales artículos que la gente pone primero en sus carritos (muestra las IDs de los productos, sus nombres, y el número de veces en que fueron el primer artículo en añadirse al carrito)?"
   ]
  },
  {
   "cell_type": "markdown",
   "id": "a66fcc85",
   "metadata": {},
   "source": [
    "### [C1] ¿Cuántos artículos compran normalmente las personas en un pedido? ¿Cómo es la distribución?"
   ]
  },
  {
   "cell_type": "code",
   "execution_count": 229,
   "id": "4e933073",
   "metadata": {},
   "outputs": [
    {
     "data": {
      "text/plain": [
       "order_id\n",
       "2007942    1\n",
       "1093599    1\n",
       "Name: product_id, dtype: int64"
      ]
     },
     "execution_count": 229,
     "metadata": {},
     "output_type": "execute_result"
    }
   ],
   "source": [
    "total_products_per_order = orders.groupby('order_id')['product_id'].count().sort_values()\n",
    "total_products_per_order.head(2)"
   ]
  },
  {
   "cell_type": "code",
   "execution_count": 231,
   "id": "33217a5b",
   "metadata": {},
   "outputs": [
    {
     "data": {
      "text/plain": [
       "<Axes: >"
      ]
     },
     "execution_count": 231,
     "metadata": {},
     "output_type": "execute_result"
    },
    {
     "data": {
      "image/png": "[encoded data removed]",
      "text/plain": [
       "<Figure size 640x480 with 1 Axes>"
      ]
     },
     "metadata": {},
     "output_type": "display_data"
    }
   ],
   "source": [
    "total_products_per_order.plot(kind='box')"
   ]
  },
  {
   "cell_type": "code",
   "execution_count": 232,
   "id": "c791ea5f",
   "metadata": {},
   "outputs": [
    {
     "data": {
      "text/plain": [
       "count    450046.000000\n",
       "mean         10.098983\n",
       "std           7.540206\n",
       "min           1.000000\n",
       "25%           5.000000\n",
       "50%           8.000000\n",
       "75%          14.000000\n",
       "max         127.000000\n",
       "Name: product_id, dtype: float64"
      ]
     },
     "execution_count": 232,
     "metadata": {},
     "output_type": "execute_result"
    }
   ],
   "source": [
    "total_products_per_order.describe()"
   ]
  },
  {
   "cell_type": "code",
   "execution_count": 238,
   "id": "e21c3315",
   "metadata": {},
   "outputs": [
    {
     "name": "stdout",
     "output_type": "stream",
     "text": [
      "Porcentajes 90/95/99:  [20. 25. 35.]\n"
     ]
    }
   ],
   "source": [
    "print('Porcentajes 90/95/99: ', np.percentile(total_products_per_order,[90,95,99]))"
   ]
  },
  {
   "cell_type": "markdown",
   "id": "6f54bd33",
   "metadata": {},
   "source": [
    "Completamos la gráfica de distribución mediante el cálculo de porcentajes, hemos descubierto que el 99% de ordenes tuvieron 35 o menos artículos, por lo que a partir de 36 artículos se considera como una cantidad átipica de artículos pedidos."
   ]
  },
  {
   "cell_type": "markdown",
   "id": "97bdb5ac",
   "metadata": {},
   "source": [
    "### [C2] ¿Cuáles son los 20 principales artículos que vuelven a pedirse con mayor frecuencia (muestra sus nombres e IDs de los productos)?"
   ]
  },
  {
   "cell_type": "code",
   "execution_count": 243,
   "id": "1f2b3be6",
   "metadata": {},
   "outputs": [
    {
     "data": {
      "text/html": [
       "<div>\n",
       "<style scoped>\n",
       "    .dataframe tbody tr th:only-of-type {\n",
       "        vertical-align: middle;\n",
       "    }\n",
       "\n",
       "    .dataframe tbody tr th {\n",
       "        vertical-align: top;\n",
       "    }\n",
       "\n",
       "    .dataframe thead th {\n",
       "        text-align: right;\n",
       "    }\n",
       "</style>\n",
       "<table border=\"1\" class=\"dataframe\">\n",
       "  <thead>\n",
       "    <tr style=\"text-align: right;\">\n",
       "      <th></th>\n",
       "      <th>product_id</th>\n",
       "      <th>order_id</th>\n",
       "      <th>product_name</th>\n",
       "    </tr>\n",
       "  </thead>\n",
       "  <tbody>\n",
       "    <tr>\n",
       "      <th>0</th>\n",
       "      <td>24852</td>\n",
       "      <td>55763</td>\n",
       "      <td>Banana</td>\n",
       "    </tr>\n",
       "  </tbody>\n",
       "</table>\n",
       "</div>"
      ],
      "text/plain": [
       "   product_id  order_id product_name\n",
       "0       24852     55763       Banana"
      ]
     },
     "execution_count": 243,
     "metadata": {},
     "output_type": "execute_result"
    }
   ],
   "source": [
    "reordered_top = orders[orders['reordered']==1].groupby('product_id')['order_id'].count().sort_values(ascending=False).reset_index()\n",
    "reordered_top_20 = pd.merge(reordered_top,products,on='product_id').head(20)\n",
    "col_to_drop = ['aisle_id','department_id']\n",
    "reordered_top_20 = reordered_top_20.drop(col_to_drop,axis='columns')\n",
    "reordered_top_20.head(1)"
   ]
  },
  {
   "cell_type": "code",
   "execution_count": null,
   "id": "1ee1e6c4",
   "metadata": {},
   "outputs": [],
   "source": [
    "plt.figure(figsize=(12,5))\n",
    "plt.bar(top_20['product_name'],top_20['order_id'])\n",
    "plt.xticks(rotation=45,ha='right')\n",
    "plt.title('Top 20 de productos más comprados')\n",
    "plt.tight_layout()\n",
    "plt.show()"
   ]
  },
  {
   "cell_type": "code",
   "execution_count": 244,
   "id": "a38c36de",
   "metadata": {},
   "outputs": [
    {
     "data": {
      "image/png": "[encoded data removed]",
      "text/plain": [
       "<Figure size 1200x500 with 1 Axes>"
      ]
     },
     "metadata": {},
     "output_type": "display_data"
    }
   ],
   "source": [
    "plt.figure(figsize=(12,5))\n",
    "plt.bar(reordered_top_20['product_name'],reordered_top_20['order_id'])\n",
    "plt.xticks(rotation=45, ha='right')\n",
    "plt.title('Top 20 de productos más reordenados')\n",
    "plt.tight_layout()\n",
    "plt.show()"
   ]
  },
  {
   "cell_type": "markdown",
   "id": "d6ff4516",
   "metadata": {},
   "source": [
    "los 5 productos más reordenados son platanos, bolsas de platano, fresas, espinacas y Aguacate."
   ]
  },
  {
   "cell_type": "markdown",
   "id": "86cffeda",
   "metadata": {},
   "source": [
    "### [C3] Para cada producto, ¿cuál es la proporción de las veces que se pide y que se vuelve a pedir?"
   ]
  },
  {
   "cell_type": "code",
   "execution_count": 250,
   "id": "867ef5c1",
   "metadata": {},
   "outputs": [
    {
     "data": {
      "text/html": [
       "<div>\n",
       "<style scoped>\n",
       "    .dataframe tbody tr th:only-of-type {\n",
       "        vertical-align: middle;\n",
       "    }\n",
       "\n",
       "    .dataframe tbody tr th {\n",
       "        vertical-align: top;\n",
       "    }\n",
       "\n",
       "    .dataframe thead th {\n",
       "        text-align: right;\n",
       "    }\n",
       "</style>\n",
       "<table border=\"1\" class=\"dataframe\">\n",
       "  <thead>\n",
       "    <tr style=\"text-align: right;\">\n",
       "      <th></th>\n",
       "      <th>total_orders</th>\n",
       "      <th>total_reordered</th>\n",
       "      <th>proportion</th>\n",
       "    </tr>\n",
       "    <tr>\n",
       "      <th>product_id</th>\n",
       "      <th></th>\n",
       "      <th></th>\n",
       "      <th></th>\n",
       "    </tr>\n",
       "  </thead>\n",
       "  <tbody>\n",
       "    <tr>\n",
       "      <th>1</th>\n",
       "      <td>280</td>\n",
       "      <td>158</td>\n",
       "      <td>0.564286</td>\n",
       "    </tr>\n",
       "    <tr>\n",
       "      <th>2</th>\n",
       "      <td>11</td>\n",
       "      <td>0</td>\n",
       "      <td>0.000000</td>\n",
       "    </tr>\n",
       "    <tr>\n",
       "      <th>3</th>\n",
       "      <td>42</td>\n",
       "      <td>31</td>\n",
       "      <td>0.738095</td>\n",
       "    </tr>\n",
       "    <tr>\n",
       "      <th>4</th>\n",
       "      <td>49</td>\n",
       "      <td>25</td>\n",
       "      <td>0.510204</td>\n",
       "    </tr>\n",
       "    <tr>\n",
       "      <th>7</th>\n",
       "      <td>2</td>\n",
       "      <td>1</td>\n",
       "      <td>0.500000</td>\n",
       "    </tr>\n",
       "  </tbody>\n",
       "</table>\n",
       "</div>"
      ],
      "text/plain": [
       "            total_orders  total_reordered  proportion\n",
       "product_id                                           \n",
       "1                    280              158    0.564286\n",
       "2                     11                0    0.000000\n",
       "3                     42               31    0.738095\n",
       "4                     49               25    0.510204\n",
       "7                      2                1    0.500000"
      ]
     },
     "execution_count": 250,
     "metadata": {},
     "output_type": "execute_result"
    }
   ],
   "source": [
    "reorders = orders.groupby('product_id').agg(\n",
    "    total_orders = ('reordered','count'),\n",
    "    total_reordered = ('reordered','sum')\n",
    ")\n",
    "reorders['proportion'] = reorders['total_reordered'] / reorders['total_orders']\n",
    "reorders.head()"
   ]
  },
  {
   "cell_type": "markdown",
   "id": "4f5b43dc",
   "metadata": {},
   "source": [
    "Escribe aquí tus conclusiones\n",
    "\n",
    "Se calculó la proporción de recompra, valores cercanos a 1 son productos que se recompran demasiado, mientras que productos con valores cercanos a 0 son productos que casi no se recompran. Es interesante saber esto ya que podríamos omitir aquellos productos que solo se compran una vez y que generan ingresos una sola vez para la empresa, mientras que se podría dar preferencia a productos con recompra que generarían más ingresos con los mismos clientes."
   ]
  },
  {
   "cell_type": "markdown",
   "id": "a8ea113f",
   "metadata": {},
   "source": [
    "### [C4] Para cada cliente, ¿qué proporción de sus productos ya los había pedido?"
   ]
  },
  {
   "cell_type": "code",
   "execution_count": 254,
   "id": "af135842",
   "metadata": {},
   "outputs": [
    {
     "data": {
      "text/html": [
       "<div>\n",
       "<style scoped>\n",
       "    .dataframe tbody tr th:only-of-type {\n",
       "        vertical-align: middle;\n",
       "    }\n",
       "\n",
       "    .dataframe tbody tr th {\n",
       "        vertical-align: top;\n",
       "    }\n",
       "\n",
       "    .dataframe thead th {\n",
       "        text-align: right;\n",
       "    }\n",
       "</style>\n",
       "<table border=\"1\" class=\"dataframe\">\n",
       "  <thead>\n",
       "    <tr style=\"text-align: right;\">\n",
       "      <th></th>\n",
       "      <th>user_id</th>\n",
       "      <th>order_id</th>\n",
       "      <th>product_id</th>\n",
       "      <th>add_to_cart_order</th>\n",
       "      <th>reordered</th>\n",
       "    </tr>\n",
       "  </thead>\n",
       "  <tbody>\n",
       "    <tr>\n",
       "      <th>0</th>\n",
       "      <td>154678</td>\n",
       "      <td>20</td>\n",
       "      <td>33452</td>\n",
       "      <td>5.0</td>\n",
       "      <td>0</td>\n",
       "    </tr>\n",
       "  </tbody>\n",
       "</table>\n",
       "</div>"
      ],
      "text/plain": [
       "   user_id  order_id  product_id add_to_cart_order  reordered\n",
       "0   154678        20       33452               5.0          0"
      ]
     },
     "execution_count": 254,
     "metadata": {},
     "output_type": "execute_result"
    }
   ],
   "source": [
    "products_by_user = instacart.groupby('user_id')['order_id'].count().sort_values(ascending=False).reset_index()\n",
    "users_and_reorders = pd.merge(products_by_user,orders, on='order_id')\n",
    "users_and_reorders.head(1)"
   ]
  },
  {
   "cell_type": "code",
   "execution_count": 255,
   "id": "29b56011",
   "metadata": {},
   "outputs": [
    {
     "data": {
      "text/html": [
       "<div>\n",
       "<style scoped>\n",
       "    .dataframe tbody tr th:only-of-type {\n",
       "        vertical-align: middle;\n",
       "    }\n",
       "\n",
       "    .dataframe tbody tr th {\n",
       "        vertical-align: top;\n",
       "    }\n",
       "\n",
       "    .dataframe thead th {\n",
       "        text-align: right;\n",
       "    }\n",
       "</style>\n",
       "<table border=\"1\" class=\"dataframe\">\n",
       "  <thead>\n",
       "    <tr style=\"text-align: right;\">\n",
       "      <th></th>\n",
       "      <th>products_by_client</th>\n",
       "      <th>products_reordered</th>\n",
       "      <th>proportion</th>\n",
       "    </tr>\n",
       "    <tr>\n",
       "      <th>user_id</th>\n",
       "      <th></th>\n",
       "      <th></th>\n",
       "      <th></th>\n",
       "    </tr>\n",
       "  </thead>\n",
       "  <tbody>\n",
       "    <tr>\n",
       "      <th>14</th>\n",
       "      <td>13</td>\n",
       "      <td>12</td>\n",
       "      <td>0.923077</td>\n",
       "    </tr>\n",
       "    <tr>\n",
       "      <th>54</th>\n",
       "      <td>5</td>\n",
       "      <td>5</td>\n",
       "      <td>1.000000</td>\n",
       "    </tr>\n",
       "    <tr>\n",
       "      <th>82</th>\n",
       "      <td>13</td>\n",
       "      <td>12</td>\n",
       "      <td>0.923077</td>\n",
       "    </tr>\n",
       "    <tr>\n",
       "      <th>110</th>\n",
       "      <td>13</td>\n",
       "      <td>12</td>\n",
       "      <td>0.923077</td>\n",
       "    </tr>\n",
       "    <tr>\n",
       "      <th>127</th>\n",
       "      <td>13</td>\n",
       "      <td>12</td>\n",
       "      <td>0.923077</td>\n",
       "    </tr>\n",
       "  </tbody>\n",
       "</table>\n",
       "</div>"
      ],
      "text/plain": [
       "         products_by_client  products_reordered  proportion\n",
       "user_id                                                    \n",
       "14                       13                  12    0.923077\n",
       "54                        5                   5    1.000000\n",
       "82                       13                  12    0.923077\n",
       "110                      13                  12    0.923077\n",
       "127                      13                  12    0.923077"
      ]
     },
     "execution_count": 255,
     "metadata": {},
     "output_type": "execute_result"
    }
   ],
   "source": [
    "reorders_per_user = users_and_reorders.groupby('user_id').agg(\n",
    "    products_by_client = ('reordered','count'),\n",
    "    products_reordered = ('reordered','sum')\n",
    ")\n",
    "reorders_per_user['proportion'] = reorders_per_user['products_reordered']/reorders_per_user['products_by_client']\n",
    "reorders_per_user.head()"
   ]
  },
  {
   "cell_type": "markdown",
   "id": "818a6f9d",
   "metadata": {},
   "source": [
    "Escribe aquí tus conclusiones\n",
    "\n",
    "Se calculó la proporción de productos pedidos y su recompra, valores cercanos a 1 quiere decir que el cliente compra los mismos productos, es decir, que tiene recompra, mientras que valores cercanos a 0 son productos clientes que compran productos pero genera poca recompra de los mismos, lo que se traduce en menos ingreso para la empresa.\n",
    "\n",
    "Vemos que las primeras 5 filas demuestran valores altos (cercanos a 1) en la proporción, eso es un indicador positivo, ya que nos demuestra que los clientes mantienen una recompra importante de los productos."
   ]
  },
  {
   "cell_type": "markdown",
   "id": "3b3cdf81",
   "metadata": {},
   "source": [
    "### [C5] ¿Cuáles son los 20 principales artículos que las personas ponen primero en sus carritos?"
   ]
  },
  {
   "cell_type": "code",
   "execution_count": 258,
   "id": "6901076c",
   "metadata": {},
   "outputs": [
    {
     "data": {
      "text/html": [
       "<div>\n",
       "<style scoped>\n",
       "    .dataframe tbody tr th:only-of-type {\n",
       "        vertical-align: middle;\n",
       "    }\n",
       "\n",
       "    .dataframe tbody tr th {\n",
       "        vertical-align: top;\n",
       "    }\n",
       "\n",
       "    .dataframe thead th {\n",
       "        text-align: right;\n",
       "    }\n",
       "</style>\n",
       "<table border=\"1\" class=\"dataframe\">\n",
       "  <thead>\n",
       "    <tr style=\"text-align: right;\">\n",
       "      <th></th>\n",
       "      <th>product_id</th>\n",
       "      <th>order_id</th>\n",
       "      <th>product_name</th>\n",
       "    </tr>\n",
       "  </thead>\n",
       "  <tbody>\n",
       "    <tr>\n",
       "      <th>0</th>\n",
       "      <td>24852</td>\n",
       "      <td>15562</td>\n",
       "      <td>Banana</td>\n",
       "    </tr>\n",
       "    <tr>\n",
       "      <th>1</th>\n",
       "      <td>13176</td>\n",
       "      <td>11026</td>\n",
       "      <td>Bag of Organic Bananas</td>\n",
       "    </tr>\n",
       "    <tr>\n",
       "      <th>2</th>\n",
       "      <td>27845</td>\n",
       "      <td>4363</td>\n",
       "      <td>Organic Whole Milk</td>\n",
       "    </tr>\n",
       "    <tr>\n",
       "      <th>3</th>\n",
       "      <td>21137</td>\n",
       "      <td>3946</td>\n",
       "      <td>Organic Strawberries</td>\n",
       "    </tr>\n",
       "    <tr>\n",
       "      <th>4</th>\n",
       "      <td>47209</td>\n",
       "      <td>3390</td>\n",
       "      <td>Organic Hass Avocado</td>\n",
       "    </tr>\n",
       "  </tbody>\n",
       "</table>\n",
       "</div>"
      ],
      "text/plain": [
       "   product_id  order_id            product_name\n",
       "0       24852     15562                  Banana\n",
       "1       13176     11026  Bag of Organic Bananas\n",
       "2       27845      4363      Organic Whole Milk\n",
       "3       21137      3946    Organic Strawberries\n",
       "4       47209      3390    Organic Hass Avocado"
      ]
     },
     "execution_count": 258,
     "metadata": {},
     "output_type": "execute_result"
    }
   ],
   "source": [
    "first_products = orders[orders['add_to_cart_order']==1].groupby('product_id')['order_id'].count().sort_values(ascending=False).reset_index()\n",
    "first_20_products = pd.merge(first_products,products,on='product_id').head(20)\n",
    "cols_to_drop = ['aisle_id','department_id']\n",
    "first_20_products = first_20_products.drop(cols_to_drop,axis='columns')\n",
    "first_20_products.head()"
   ]
  },
  {
   "cell_type": "code",
   "execution_count": 259,
   "id": "7d7b29a1",
   "metadata": {},
   "outputs": [
    {
     "data": {
      "image/png": "[encoded data removed]",
      "text/plain": [
       "<Figure size 1200x500 with 1 Axes>"
      ]
     },
     "metadata": {},
     "output_type": "display_data"
    }
   ],
   "source": [
    "plt.figure(figsize=(12,5))\n",
    "plt.bar(first_20_products['product_name'],first_20_products['order_id'])\n",
    "plt.xticks(rotation=45,ha='right')\n",
    "plt.title('Top 20 de los productos que más son agregados primero al carrito')\n",
    "plt.tight_layout()\n",
    "plt.show()"
   ]
  },
  {
   "cell_type": "markdown",
   "id": "6d020efe",
   "metadata": {},
   "source": [
    "Escribe aquí tus conclusiones\n",
    "\n",
    "Los 20 primeros productos son comestibles."
   ]
  },
  {
   "cell_type": "markdown",
   "id": "bf5f88c1",
   "metadata": {},
   "source": [
    "### Conclusion general del proyecto:"
   ]
  },
  {
   "cell_type": "markdown",
   "id": "b69ddf15",
   "metadata": {},
   "source": [
    "Se realizó un preprocesamiento de datos y se sacaron conclusiones respecto a los clientes, los productos top y la recompra de los mismos. \n",
    "Se proceso de tal forma que se descubrieron algunos errores en la captura de datos, se identificaron valores ausentes relacionados a datos logicos como la falta de días de la última compra para clientes que han hecho su primer compra, por lo que dichos ausentes son lógicos.\n",
    "Además se realizaron clalculos con la información disponible que podría apoyar a la empresa a seleccionar mejor los productos que vende y que recompra tienen. Lo que se traduce en más ventas y más ingresos. Además de descubrir horarios favoritos por los clientes para realizar sus compras, con eso se puede generar estrategias de marketing que exploten esos horarios y días pico para vender más, así como realizar proyectos para aumentar las ventas en horarios y días bajos.\n",
    "\n",
    "Por ultimo, se realizaron graficas para volver más amigable la visualización de estos calculos y conclusiones."
   ]
  }
 ],
 "metadata": {
  "kernelspec": {
   "display_name": "sprint4",
   "language": "python",
   "name": "python3"
  },
  "language_info": {
   "codemirror_mode": {
    "name": "ipython",
    "version": 3
   },
   "file_extension": ".py",
   "mimetype": "text/x-python",
   "name": "python",
   "nbconvert_exporter": "python",
   "pygments_lexer": "ipython3",
   "version": "3.13.2"
  }
 },
 "nbformat": 4,
 "nbformat_minor": 5
}
